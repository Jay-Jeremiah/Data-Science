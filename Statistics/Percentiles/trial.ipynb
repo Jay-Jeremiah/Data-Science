{
 "cells": [
  {
   "cell_type": "code",
   "execution_count": null,
   "metadata": {},
   "outputs": [],
   "source": [
    "q = 'earth'\n",
    "r = 'is'\n",
    "s = 'good'\n",
    "\n",
    "print(q,r,s)"
   ]
  }
 ],
 "metadata": {
  "language_info": {
   "name": "python"
  }
 },
 "nbformat": 4,
 "nbformat_minor": 2
}
