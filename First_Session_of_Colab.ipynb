{
  "nbformat": 4,
  "nbformat_minor": 0,
  "metadata": {
    "colab": {
      "provenance": [],
      "authorship_tag": "ABX9TyNXm1HzvxWvTUiRL0AVRFXr",
      "include_colab_link": true
    },
    "kernelspec": {
      "name": "python3",
      "display_name": "Python 3"
    },
    "language_info": {
      "name": "python"
    }
  },
  "cells": [
    {
      "cell_type": "markdown",
      "metadata": {
        "id": "view-in-github",
        "colab_type": "text"
      },
      "source": [
        "<a href=\"https://colab.research.google.com/github/Jay-Jeremiah/Data-Science/blob/main/First_Session_of_Colab.ipynb\" target=\"_parent\"><img src=\"https://colab.research.google.com/assets/colab-badge.svg\" alt=\"Open In Colab\"/></a>"
      ]
    },
    {
      "cell_type": "markdown",
      "source": [
        "#Heading 1"
      ],
      "metadata": {
        "id": "Ob-rRpdSz6md"
      }
    },
    {
      "cell_type": "markdown",
      "source": [
        "##Heading 2\n"
      ],
      "metadata": {
        "id": "sg_qpBWp18jL"
      }
    },
    {
      "cell_type": "markdown",
      "source": [
        "###Heading 3\n"
      ],
      "metadata": {
        "id": "VJGMw3p-2E2B"
      }
    },
    {
      "cell_type": "code",
      "source": [],
      "metadata": {
        "id": "eMqzskc12h6q"
      },
      "execution_count": null,
      "outputs": []
    },
    {
      "cell_type": "code",
      "source": [],
      "metadata": {
        "id": "2wvwW-la2cpy"
      },
      "execution_count": null,
      "outputs": []
    }
  ]
}