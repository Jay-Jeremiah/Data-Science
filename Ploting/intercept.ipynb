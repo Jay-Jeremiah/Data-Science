{
 "cells": [
  {
   "cell_type": "code",
   "execution_count": 1,
   "metadata": {},
   "outputs": [],
   "source": [
    "import pandas as pd\n",
    "import numpy as np  #numpy gives us the attribute to calculate the intercept\n",
    "\n"
   ]
  },
  {
   "cell_type": "code",
   "execution_count": 2,
   "metadata": {},
   "outputs": [
    {
     "name": "stdout",
     "output_type": "stream",
     "text": [
      "     Duration  Average_Pulse  Max_Pulse  Calorie_Burnage  Hours_Work  \\\n",
      "0          60            110        130              409         0.0   \n",
      "1          60            117        145              479         0.0   \n",
      "2          60            103        135              340         8.0   \n",
      "3          45            109        175              282         8.0   \n",
      "4          45            117        148              406         0.0   \n",
      "..        ...            ...        ...              ...         ...   \n",
      "158        60            105        140              290         7.0   \n",
      "159        60            110        145              300         7.0   \n",
      "160        60            115        145              310         8.0   \n",
      "161        75            120        150              320         0.0   \n",
      "162        75            125        150              330         8.0   \n",
      "\n",
      "     Hours_Sleep  \n",
      "0            8.0  \n",
      "1            8.0  \n",
      "2            7.5  \n",
      "3            8.0  \n",
      "4            6.5  \n",
      "..           ...  \n",
      "158          8.0  \n",
      "159          8.0  \n",
      "160          8.0  \n",
      "161          8.0  \n",
      "162          8.0  \n",
      "\n",
      "[163 rows x 6 columns]\n"
     ]
    }
   ],
   "source": [
    "health = pd.read_csv('C:\\\\Users\\\\Jeremiah\\\\Documents\\\\DataScience\\\\Data-Science\\\\CSV_files\\\\data15.csv')\n",
    "print(health)"
   ]
  },
  {
   "cell_type": "code",
   "execution_count": 3,
   "metadata": {},
   "outputs": [
    {
     "name": "stdout",
     "output_type": "stream",
     "text": [
      "[3.41410199e-04 1.34205054e+02]\n"
     ]
    }
   ],
   "source": [
    "x = health[\"Duration\"]\n",
    "y = health[\"Max_Pulse\"]\n",
    "\n",
    "# to return the slope and intercept, we use polyfit()\n",
    "\n",
    "intercept = np.polyfit(x,y,1)\n",
    "\n",
    "print(intercept)"
   ]
  }
 ],
 "metadata": {
  "kernelspec": {
   "display_name": "Python 3",
   "language": "python",
   "name": "python3"
  },
  "language_info": {
   "codemirror_mode": {
    "name": "ipython",
    "version": 3
   },
   "file_extension": ".py",
   "mimetype": "text/x-python",
   "name": "python",
   "nbconvert_exporter": "python",
   "pygments_lexer": "ipython3",
   "version": "3.11.8"
  }
 },
 "nbformat": 4,
 "nbformat_minor": 2
}
